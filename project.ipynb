{
  "nbformat": 4,
  "nbformat_minor": 0,
  "metadata": {
    "colab": {
      "name": "project.ipynb",
      "version": "0.3.2",
      "provenance": [],
      "collapsed_sections": []
    },
    "kernelspec": {
      "name": "python3",
      "display_name": "Python 3"
    },
    "accelerator": "GPU"
  },
  "cells": [
    {
      "metadata": {
        "id": "P17IT8j-mRr-",
        "colab_type": "code",
        "colab": {}
      },
      "cell_type": "code",
      "source": [
        "!pip3 install torch torchvision tqdm matplotlib scikit-image"
      ],
      "execution_count": 0,
      "outputs": []
    },
    {
      "metadata": {
        "id": "EG6xCdN0mczJ",
        "colab_type": "code",
        "colab": {}
      },
      "cell_type": "code",
      "source": [
        "!rm -rf ./ccpd5000/ && rm ccpd5000.tar.gz\n",
        "!wget https://github.com/amoshyc/cvlab-2019w-project/releases/download/v0.1/ccpd5000.tar.gz\n",
        "!tar zxf ccpd5000.tar.gz\n",
        "!ls ccpd5000/**/*.jpg | wc -l"
      ],
      "execution_count": 0,
      "outputs": []
    },
    {
      "metadata": {
        "id": "92AjZIuOmlhA",
        "colab_type": "code",
        "colab": {}
      },
      "cell_type": "code",
      "source": [
        "from pathlib import Path\n",
        "\n",
        "img_dir = Path('./ccpd5000/train/')\n",
        "img_paths = img_dir.glob('*.jpg')\n",
        "img_paths = sorted(list(img_paths))\n",
        "\n",
        "print(len(img_paths))\n",
        "\n",
        "name = img_paths[0].name\n",
        "print(name)\n",
        "\n",
        "token = name.split('-')[3]\n",
        "print(token)\n",
        "\n",
        "token = token.replace('&', '_')\n",
        "print(token)\n",
        "\n",
        "values = token.split('_')\n",
        "print(values)\n",
        "\n",
        "values = [float(val) for val in values]\n",
        "print(values)"
      ],
      "execution_count": 0,
      "outputs": []
    },
    {
      "metadata": {
        "id": "SYXvrM-rmrXC",
        "colab_type": "code",
        "colab": {}
      },
      "cell_type": "code",
      "source": [
        "import warnings\n",
        "\n",
        "import torch\n",
        "import numpy as np\n",
        "from PIL import Image, ImageDraw\n",
        "from skimage import util\n",
        "from skimage.transform import ProjectiveTransform, warp\n",
        "\n",
        "def draw_kpts(img, kpts, c='red', r=2.0):\n",
        "    '''Draw keypoints on image.\n",
        "    Args:\n",
        "        img: (PIL.Image) will be modified\n",
        "        kpts: (FloatTensor) keypoints in xy format, sized [8,]\n",
        "        c: (PIL.Color) color of keypoints, default to 'red'\n",
        "        r: (float) radius of keypoints, default to 2.0\n",
        "    Return:\n",
        "        img: (PIL.Image) modified image\n",
        "    '''\n",
        "    draw = ImageDraw.Draw(img)\n",
        "    kpts = kpts.view(4, 2)\n",
        "    kpts = kpts * torch.FloatTensor(img.size)\n",
        "    kpts = kpts.numpy().tolist()\n",
        "    for (x, y) in kpts:\n",
        "        draw.ellipse([x - r, y - r, x + r, y + r], fill=c)\n",
        "    return img\n",
        "\n",
        "\n",
        "def draw_plate(img, kpts):\n",
        "    '''Perspective tranform and draw the plate indicated by kpts to a 96x30 rectangle.\n",
        "    Args:\n",
        "        img: (PIL.Image) will be modified\n",
        "        kpts: (FloatTensor) keypoints in xy format, sized [8,]\n",
        "    Return:\n",
        "        img: (PIL.Image) modified image\n",
        "    Reference: http://scikit-image.org/docs/dev/auto_examples/xx_applications/plot_geometric.html\n",
        "    '''\n",
        "    src = np.float32([[96, 30], [0, 30], [0, 0], [96, 0]])\n",
        "    dst = kpts.view(4, 2).numpy()\n",
        "    dst = dst * np.float32(img.size)\n",
        "\n",
        "    transform = ProjectiveTransform()\n",
        "    transform.estimate(src, dst)\n",
        "    with warnings.catch_warnings(): # surpress skimage warning\n",
        "        warnings.simplefilter(\"ignore\")\n",
        "        warped = warp(np.array(img), transform, output_shape=(30, 96))\n",
        "        warped = util.img_as_ubyte(warped)\n",
        "    plate = Image.fromarray(warped)\n",
        "    img.paste(plate)\n",
        "    return img"
      ],
      "execution_count": 0,
      "outputs": []
    },
    {
      "metadata": {
        "id": "S-NUEpDinJVe",
        "colab_type": "code",
        "colab": {}
      },
      "cell_type": "code",
      "source": [
        "from PIL import Image\n",
        "from tqdm import tqdm\n",
        "from pathlib import Path\n",
        "\n",
        "import torch\n",
        "from torch.utils.data import DataLoader\n",
        "from torchvision.transforms import functional as tf\n",
        "\n",
        "class CCPD5000:\n",
        "  def __init__(self, img_dir):\n",
        "    self.img_dir = Path(img_dir)\n",
        "    self.img_paths = self.img_dir.glob('*.jpg')\n",
        "    self.img_paths = sorted(list(self.img_paths))\n",
        "    \n",
        "  def __len__(self):\n",
        "    return len(self.img_paths)\n",
        "  \n",
        "  def __getitem__(self, idx):\n",
        "    img_path = self.img_paths[idx]\n",
        "    \n",
        "    # load image\n",
        "    img = Image.open(img_path)\n",
        "    W, H = img.size\n",
        "    img = img.convert('RGB')\n",
        "    img = img.resize((192, 320))\n",
        "    img = tf.to_tensor(img)\n",
        "    \n",
        "    # parse annotation\n",
        "    name = img_path.name\n",
        "    token = name.split('-')[3]\n",
        "    token = token.replace('&', '_')\n",
        "    kpt = [float(val) for val in token.split('_')]\n",
        "    kpt = torch.tensor(kpt) # [8,]\n",
        "    kpt = kpt.view(4, 2) # [4, 2]\n",
        "    kpt = kpt / torch.FloatTensor([W, H])\n",
        "    kpt = kpt.view(-1) # [8,]\n",
        "    \n",
        "    return img, kpt\n",
        "  \n",
        "\n",
        "train_set = CCPD5000('./ccpd5000/train')\n",
        "print(len(train_set))\n",
        "\n",
        "img, kpt = train_set[-1]\n",
        "print(img.size())\n",
        "print(kpt.size())"
      ],
      "execution_count": 0,
      "outputs": []
    },
    {
      "metadata": {
        "id": "eoQiImXDnKjM",
        "colab_type": "code",
        "colab": {}
      },
      "cell_type": "code",
      "source": [
        "import torch\n",
        "from torch import nn\n",
        "from torch.nn import functional as F\n",
        "\n",
        "\n",
        "class ConvBlock(nn.Module):\n",
        "    def __init__(self, cin, cout):\n",
        "        super().__init__()\n",
        "        self.conv1 = nn.Conv2d(cin, cout, (3, 3), padding=1)\n",
        "        self.conv2 = nn.Conv2d(cout, cout, (3, 3), padding=1)\n",
        "        self.bn1 = nn.BatchNorm2d(cout)\n",
        "        self.bn2 = nn.BatchNorm2d(cout)\n",
        "        self.act1 = nn.LeakyReLU()\n",
        "        self.act2 = nn.LeakyReLU()\n",
        "\n",
        "    def forward(self, x):\n",
        "        x = self.act1(self.bn1(self.conv1(x)))\n",
        "        x = self.act1(self.bn2(self.conv2(x)))\n",
        "        return x\n",
        "\n",
        "\n",
        "class CCPDRegressor(nn.Module):\n",
        "    def __init__(self):\n",
        "        super().__init__()\n",
        "        self.features = nn.Sequential(\n",
        "            ConvBlock(3, 32),\n",
        "            nn.MaxPool2d((8, 8)),\n",
        "            ConvBlock(32, 32),\n",
        "            nn.MaxPool2d((4, 4)),\n",
        "            ConvBlock(32, 64),\n",
        "            nn.MaxPool2d((2, 2)),\n",
        "            ConvBlock(64, 64),\n",
        "            nn.MaxPool2d((2, 2)),\n",
        "        )\n",
        "        self.regressor = nn.Sequential(\n",
        "            nn.Linear(128, 32),\n",
        "            nn.LeakyReLU(),\n",
        "            nn.Linear(32, 8),\n",
        "            nn.Sigmoid(),\n",
        "        )\n",
        "\n",
        "    def forward(self, x):\n",
        "        N = x.size(0)\n",
        "        x = self.features(x)\n",
        "        x = x.view(N, -1) # i.e. Flatten\n",
        "        x = self.regressor(x)\n",
        "        return x\n",
        "\n",
        "\n",
        "if __name__ == '__main__':\n",
        "    device = 'cuda'\n",
        "    model = CCPDRegressor().to(device)\n",
        "    img_b = torch.rand(16, 3, 320, 192).to(device)\n",
        "    out_b = model(img_b)\n",
        "    print(out_b.size())"
      ],
      "execution_count": 0,
      "outputs": []
    },
    {
      "metadata": {
        "id": "lwmAACitnWQQ",
        "colab_type": "code",
        "outputId": "7e7af724-0134-4017-c883-c487339acf34",
        "colab": {
          "base_uri": "https://localhost:8080/",
          "height": 1378
        }
      },
      "cell_type": "code",
      "source": [
        "import json\n",
        "import random\n",
        "import numpy as np\n",
        "from tqdm import tqdm\n",
        "from pathlib import Path\n",
        "from datetime import datetime\n",
        "\n",
        "import pandas as pd\n",
        "import matplotlib.pyplot as plt\n",
        "plt.style.use('seaborn')\n",
        "\n",
        "import torch\n",
        "from torch import nn\n",
        "from torch.nn import functional as F\n",
        "from torchvision.utils import save_image\n",
        "from torch.utils.data import Subset, ConcatDataset, DataLoader\n",
        "from torchvision.transforms import functional as tf\n",
        "\n",
        "# For reproducibility\n",
        "# Set before loading model and dataset\n",
        "seed = 999\n",
        "random.seed(seed)\n",
        "np.random.seed(seed)\n",
        "torch.manual_seed(seed)\n",
        "torch.backends.cudnn.deterministic = True\n",
        "\n",
        "#import util\n",
        "#from dataset import CCPD5000\n",
        "#from model import CCPDRegressor\n",
        "\n",
        "train_set = CCPD5000('./ccpd5000/train/')\n",
        "valid_set = CCPD5000('./ccpd5000/valid/')\n",
        "visul_set = ConcatDataset([\n",
        "    Subset(train_set, random.sample(range(len(train_set)), 32)),\n",
        "    Subset(valid_set, random.sample(range(len(valid_set)), 32)),\n",
        "])\n",
        "train_loader = DataLoader(train_set, 32, shuffle=True, num_workers=3)\n",
        "valid_loader = DataLoader(valid_set, 32, shuffle=False, num_workers=1)\n",
        "visul_loader = DataLoader(visul_set, 32, shuffle=False, num_workers=1)\n",
        "\n",
        "device = 'cuda'\n",
        "model = CCPDRegressor().to(device)\n",
        "criterion = nn.L1Loss().to(device)\n",
        "optimizer = torch.optim.Adam(model.parameters())\n",
        "\n",
        "log_dir = Path('./log/') / f'{datetime.now():%Y.%m.%d-%H:%M:%S}'\n",
        "log_dir.mkdir(parents=True)\n",
        "print(log_dir)\n",
        "history = {\n",
        "    'train_mae': [],\n",
        "    'valid_mae': [],\n",
        "    'train_mse': [],\n",
        "    'valid_mse': [],\n",
        "}\n",
        "\n",
        "\n",
        "def train(pbar):\n",
        "    model.train()\n",
        "    mae_steps = []\n",
        "    mse_steps = []\n",
        "\n",
        "    for img_b, kpt_b in iter(train_loader):\n",
        "        img_b = img_b.to(device)\n",
        "        kpt_b = kpt_b.to(device)\n",
        "\n",
        "        optimizer.zero_grad()\n",
        "        pred_b = model(img_b)\n",
        "        loss = criterion(pred_b, kpt_b)\n",
        "        loss.backward()\n",
        "        optimizer.step()\n",
        "\n",
        "        mae = loss.detach().item()\n",
        "        mse = F.mse_loss(pred_b.detach(), kpt_b.detach()).item()\n",
        "        mae_steps.append(mae)\n",
        "        mse_steps.append(mse)\n",
        "\n",
        "        pbar.set_postfix(mae=mae, mse=mse)\n",
        "        pbar.update(img_b.size(0))\n",
        "\n",
        "    avg_mae = sum(mae_steps) / len(mae_steps)\n",
        "    avg_mse = sum(mse_steps) / len(mse_steps)\n",
        "    pbar.set_postfix(avg_mae=f'{avg_mae:.5f}', avg_mse=f'{avg_mse:.5f}')\n",
        "    history['train_mae'].append(avg_mae)\n",
        "    history['train_mse'].append(avg_mse)\n",
        "\n",
        "\n",
        "def valid(pbar):\n",
        "    model.eval()\n",
        "    mae_steps = []\n",
        "    mse_steps = []\n",
        "\n",
        "    for img_b, kpt_b in iter(valid_loader):\n",
        "        img_b = img_b.to(device)\n",
        "        kpt_b = kpt_b.to(device)\n",
        "        pred_b = model(img_b)\n",
        "        loss = criterion(pred_b, kpt_b)\n",
        "\n",
        "        mae = loss.detach().item()\n",
        "        mse = F.mse_loss(pred_b.detach(), kpt_b.detach()).item()\n",
        "        mae_steps.append(mae)\n",
        "        mse_steps.append(mse)\n",
        "\n",
        "        pbar.set_postfix(mae=mae, mse=mse)\n",
        "        pbar.update(img_b.size(0))\n",
        "\n",
        "    avg_mae = sum(mae_steps) / len(mae_steps)\n",
        "    avg_mse = sum(mse_steps) / len(mse_steps)\n",
        "    pbar.set_postfix(avg_mae=f'{avg_mae:.5f}', avg_mse=f'{avg_mse:.5f}')\n",
        "    history['valid_mae'].append(avg_mae)\n",
        "    history['valid_mse'].append(avg_mse)\n",
        "\n",
        "\n",
        "def visul(pbar, epoch):\n",
        "    model.eval()\n",
        "    epoch_dir = log_dir / f'{epoch:03d}'\n",
        "    epoch_dir.mkdir()\n",
        "    for img_b, kpt_b in iter(visul_loader):\n",
        "        pred_b = model(img_b.to(device)).cpu()\n",
        "        for img, pred_kpt, true_kpt in zip(img_b, pred_b, kpt_b):\n",
        "            img = tf.to_pil_image(img)\n",
        "            vis = draw_plate(img, pred_kpt)\n",
        "            vis = draw_kpts(vis, true_kpt, c='orange')\n",
        "            vis = draw_kpts(vis, pred_kpt, c='red')\n",
        "            vis.save(epoch_dir / f'{pbar.n:03d}.jpg')\n",
        "            pbar.update()\n",
        "\n",
        "\n",
        "def log(epoch):\n",
        "    with (log_dir / 'metrics.json').open('w') as f:\n",
        "        json.dump(history, f)\n",
        "\n",
        "    fig, ax = plt.subplots(2, 1, figsize=(6, 6), dpi=100)\n",
        "    ax[0].set_title('MAE')\n",
        "    ax[0].plot(range(epoch + 1), history['train_mae'], label='Train')\n",
        "    ax[0].plot(range(epoch + 1), history['valid_mae'], label='Valid')\n",
        "    ax[0].legend()\n",
        "    ax[1].set_title('MSE')\n",
        "    ax[1].plot(range(epoch + 1), history['train_mse'], label='Train')\n",
        "    ax[1].plot(range(epoch + 1), history['valid_mse'], label='Valid')\n",
        "    ax[1].legend()\n",
        "    fig.savefig(str(log_dir / 'metrics.jpg'))\n",
        "    plt.close()\n",
        "\n",
        "    if torch.tensor(history['valid_mse']).argmin() == epoch:\n",
        "        torch.save(model.state_dict(), str(log_dir / 'model.pth'))\n",
        "\n",
        "scheduler = torch.optim.lr_scheduler.StepLR(optimizer, step_size=10, gamma=0.1)\n",
        "for epoch in range(20):\n",
        "    print('Epoch', epoch, flush=True)\n",
        "    scheduler.step()\n",
        "    with tqdm(total=len(train_set), desc='  Train') as pbar:\n",
        "        train(pbar)\n",
        "\n",
        "    with torch.no_grad():\n",
        "        with tqdm(total=len(valid_set), desc='  Valid') as pbar:\n",
        "            valid(pbar)\n",
        "        with tqdm(total=len(visul_set), desc='  Visul') as pbar:\n",
        "            visul(pbar, epoch)\n",
        "        log(epoch)\n"
      ],
      "execution_count": 11,
      "outputs": [
        {
          "output_type": "stream",
          "text": [
            "log/2019.02.09-13:15:57\n",
            "Epoch 0\n"
          ],
          "name": "stdout"
        },
        {
          "output_type": "stream",
          "text": [
            "  Train: 100%|██████████| 4000/4000 [01:52<00:00, 54.73it/s, avg_mae=0.03347, avg_mse=0.00291]\n",
            "  Valid: 100%|██████████| 1000/1000 [00:35<00:00, 29.84it/s, avg_mae=0.02366, avg_mse=0.00100]\n",
            "  Visul: 100%|██████████| 64/64 [00:03<00:00, 19.05it/s]\n"
          ],
          "name": "stderr"
        },
        {
          "output_type": "stream",
          "text": [
            "Epoch 1\n"
          ],
          "name": "stdout"
        },
        {
          "output_type": "stream",
          "text": [
            "  Train: 100%|██████████| 4000/4000 [01:53<00:00, 48.27it/s, avg_mae=0.01581, avg_mse=0.00052]\n",
            "  Valid: 100%|██████████| 1000/1000 [00:36<00:00, 29.95it/s, avg_mae=0.01377, avg_mse=0.00037]\n",
            "  Visul: 100%|██████████| 64/64 [00:03<00:00, 17.96it/s]\n"
          ],
          "name": "stderr"
        },
        {
          "output_type": "stream",
          "text": [
            "Epoch 2\n"
          ],
          "name": "stdout"
        },
        {
          "output_type": "stream",
          "text": [
            "  Train: 100%|██████████| 4000/4000 [01:53<00:00, 55.59it/s, avg_mae=0.01229, avg_mse=0.00030]\n",
            "  Valid: 100%|██████████| 1000/1000 [00:35<00:00, 30.25it/s, avg_mae=0.01183, avg_mse=0.00029]\n",
            "  Visul: 100%|██████████| 64/64 [00:03<00:00, 18.57it/s]\n"
          ],
          "name": "stderr"
        },
        {
          "output_type": "stream",
          "text": [
            "Epoch 3\n"
          ],
          "name": "stdout"
        },
        {
          "output_type": "stream",
          "text": [
            "  Train: 100%|██████████| 4000/4000 [01:52<00:00, 52.96it/s, avg_mae=0.01176, avg_mse=0.00027]\n",
            "  Valid: 100%|██████████| 1000/1000 [00:35<00:00, 30.52it/s, avg_mae=0.01012, avg_mse=0.00021]\n",
            "  Visul: 100%|██████████| 64/64 [00:03<00:00, 19.65it/s]\n"
          ],
          "name": "stderr"
        },
        {
          "output_type": "stream",
          "text": [
            "Epoch 4\n"
          ],
          "name": "stdout"
        },
        {
          "output_type": "stream",
          "text": [
            "  Train: 100%|██████████| 4000/4000 [01:52<00:00, 48.75it/s, avg_mae=0.01048, avg_mse=0.00021]\n",
            "  Valid: 100%|██████████| 1000/1000 [00:35<00:00, 30.19it/s, avg_mae=0.01053, avg_mse=0.00020]\n",
            "  Visul: 100%|██████████| 64/64 [00:03<00:00, 24.57it/s]\n"
          ],
          "name": "stderr"
        },
        {
          "output_type": "stream",
          "text": [
            "Epoch 5\n"
          ],
          "name": "stdout"
        },
        {
          "output_type": "stream",
          "text": [
            "  Train: 100%|██████████| 4000/4000 [01:52<00:00, 45.06it/s, avg_mae=0.01004, avg_mse=0.00019]\n",
            "  Valid: 100%|██████████| 1000/1000 [00:35<00:00, 30.27it/s, avg_mae=0.00994, avg_mse=0.00021]\n",
            "  Visul: 100%|██████████| 64/64 [00:03<00:00, 19.32it/s]\n"
          ],
          "name": "stderr"
        },
        {
          "output_type": "stream",
          "text": [
            "Epoch 6\n"
          ],
          "name": "stdout"
        },
        {
          "output_type": "stream",
          "text": [
            "  Train: 100%|██████████| 4000/4000 [01:51<00:00, 45.86it/s, avg_mae=0.00964, avg_mse=0.00018]\n",
            "  Valid: 100%|██████████| 1000/1000 [00:35<00:00, 30.49it/s, avg_mae=0.00975, avg_mse=0.00018]\n",
            "  Visul: 100%|██████████| 64/64 [00:03<00:00, 19.20it/s]\n"
          ],
          "name": "stderr"
        },
        {
          "output_type": "stream",
          "text": [
            "Epoch 7\n"
          ],
          "name": "stdout"
        },
        {
          "output_type": "stream",
          "text": [
            "  Train: 100%|██████████| 4000/4000 [01:52<00:00, 50.85it/s, avg_mae=0.00886, avg_mse=0.00015]\n",
            "  Valid: 100%|██████████| 1000/1000 [00:35<00:00, 30.29it/s, avg_mae=0.00897, avg_mse=0.00016]\n",
            "  Visul: 100%|██████████| 64/64 [00:03<00:00, 18.95it/s]\n"
          ],
          "name": "stderr"
        },
        {
          "output_type": "stream",
          "text": [
            "Epoch 8\n"
          ],
          "name": "stdout"
        },
        {
          "output_type": "stream",
          "text": [
            "  Train: 100%|██████████| 4000/4000 [01:53<00:00, 51.16it/s, avg_mae=0.00852, avg_mse=0.00014]\n",
            "  Valid: 100%|██████████| 1000/1000 [00:35<00:00, 30.51it/s, avg_mae=0.01012, avg_mse=0.00020]\n",
            "  Visul: 100%|██████████| 64/64 [00:03<00:00, 18.94it/s]\n"
          ],
          "name": "stderr"
        },
        {
          "output_type": "stream",
          "text": [
            "Epoch 9\n"
          ],
          "name": "stdout"
        },
        {
          "output_type": "stream",
          "text": [
            "  Train: 100%|██████████| 4000/4000 [01:53<00:00, 50.61it/s, avg_mae=0.00833, avg_mse=0.00013]\n",
            "  Valid: 100%|██████████| 1000/1000 [00:35<00:00, 30.02it/s, avg_mae=0.00877, avg_mse=0.00015]\n",
            "  Visul: 100%|██████████| 64/64 [00:03<00:00, 19.41it/s]\n"
          ],
          "name": "stderr"
        },
        {
          "output_type": "stream",
          "text": [
            "Epoch 10\n"
          ],
          "name": "stdout"
        },
        {
          "output_type": "stream",
          "text": [
            "  Train: 100%|██████████| 4000/4000 [01:52<00:00, 44.44it/s, avg_mae=0.00675, avg_mse=0.00009]\n",
            "  Valid: 100%|██████████| 1000/1000 [00:35<00:00, 30.67it/s, avg_mae=0.00758, avg_mse=0.00012]\n",
            "  Visul: 100%|██████████| 64/64 [00:03<00:00, 19.24it/s]\n"
          ],
          "name": "stderr"
        },
        {
          "output_type": "stream",
          "text": [
            "Epoch 11\n"
          ],
          "name": "stdout"
        },
        {
          "output_type": "stream",
          "text": [
            "  Train: 100%|██████████| 4000/4000 [01:52<00:00, 45.68it/s, avg_mae=0.00637, avg_mse=0.00008]\n",
            "  Valid: 100%|██████████| 1000/1000 [00:35<00:00, 30.29it/s, avg_mae=0.00764, avg_mse=0.00012]\n",
            "  Visul: 100%|██████████| 64/64 [00:03<00:00, 19.55it/s]\n"
          ],
          "name": "stderr"
        },
        {
          "output_type": "stream",
          "text": [
            "Epoch 12\n"
          ],
          "name": "stdout"
        },
        {
          "output_type": "stream",
          "text": [
            "  Train: 100%|██████████| 4000/4000 [01:52<00:00, 46.60it/s, avg_mae=0.00626, avg_mse=0.00008]\n",
            "  Valid: 100%|██████████| 1000/1000 [00:35<00:00, 30.19it/s, avg_mae=0.00751, avg_mse=0.00012]\n",
            "  Visul: 100%|██████████| 64/64 [00:03<00:00, 24.28it/s]\n"
          ],
          "name": "stderr"
        },
        {
          "output_type": "stream",
          "text": [
            "Epoch 13\n"
          ],
          "name": "stdout"
        },
        {
          "output_type": "stream",
          "text": [
            "  Train: 100%|██████████| 4000/4000 [01:53<00:00, 48.01it/s, avg_mae=0.00614, avg_mse=0.00008]\n",
            "  Valid: 100%|██████████| 1000/1000 [00:35<00:00, 29.94it/s, avg_mae=0.00755, avg_mse=0.00012]\n",
            "  Visul: 100%|██████████| 64/64 [00:03<00:00, 18.41it/s]\n"
          ],
          "name": "stderr"
        },
        {
          "output_type": "stream",
          "text": [
            "Epoch 14\n"
          ],
          "name": "stdout"
        },
        {
          "output_type": "stream",
          "text": [
            "  Train: 100%|██████████| 4000/4000 [01:53<00:00, 45.58it/s, avg_mae=0.00617, avg_mse=0.00008]\n",
            "  Valid: 100%|██████████| 1000/1000 [00:35<00:00, 30.80it/s, avg_mae=0.00778, avg_mse=0.00012]\n",
            "  Visul: 100%|██████████| 64/64 [00:03<00:00, 19.23it/s]\n"
          ],
          "name": "stderr"
        },
        {
          "output_type": "stream",
          "text": [
            "Epoch 15\n"
          ],
          "name": "stdout"
        },
        {
          "output_type": "stream",
          "text": [
            "  Train: 100%|██████████| 4000/4000 [01:53<00:00, 44.72it/s, avg_mae=0.00605, avg_mse=0.00007]\n",
            "  Valid: 100%|██████████| 1000/1000 [00:35<00:00, 29.87it/s, avg_mae=0.00751, avg_mse=0.00012]\n",
            "  Visul: 100%|██████████| 64/64 [00:03<00:00, 19.70it/s]\n"
          ],
          "name": "stderr"
        },
        {
          "output_type": "stream",
          "text": [
            "Epoch 16\n"
          ],
          "name": "stdout"
        },
        {
          "output_type": "stream",
          "text": [
            "  Train: 100%|██████████| 4000/4000 [01:53<00:00, 47.05it/s, avg_mae=0.00603, avg_mse=0.00007]\n",
            "  Valid: 100%|██████████| 1000/1000 [00:35<00:00, 30.44it/s, avg_mae=0.00749, avg_mse=0.00012]\n",
            "  Visul: 100%|██████████| 64/64 [00:03<00:00, 15.87it/s]\n"
          ],
          "name": "stderr"
        },
        {
          "output_type": "stream",
          "text": [
            "Epoch 17\n"
          ],
          "name": "stdout"
        },
        {
          "output_type": "stream",
          "text": [
            "  Train: 100%|██████████| 4000/4000 [01:53<00:00, 45.96it/s, avg_mae=0.00594, avg_mse=0.00007]\n",
            "  Valid: 100%|██████████| 1000/1000 [00:35<00:00, 30.10it/s, avg_mae=0.00749, avg_mse=0.00012]\n",
            "  Visul: 100%|██████████| 64/64 [00:03<00:00, 19.11it/s]\n"
          ],
          "name": "stderr"
        },
        {
          "output_type": "stream",
          "text": [
            "Epoch 18\n"
          ],
          "name": "stdout"
        },
        {
          "output_type": "stream",
          "text": [
            "  Train: 100%|██████████| 4000/4000 [01:53<00:00, 47.43it/s, avg_mae=0.00595, avg_mse=0.00007]\n",
            "  Valid: 100%|██████████| 1000/1000 [00:35<00:00, 30.29it/s, avg_mae=0.00762, avg_mse=0.00012]\n",
            "  Visul: 100%|██████████| 64/64 [00:03<00:00, 18.85it/s]\n"
          ],
          "name": "stderr"
        },
        {
          "output_type": "stream",
          "text": [
            "Epoch 19\n"
          ],
          "name": "stdout"
        },
        {
          "output_type": "stream",
          "text": [
            "  Train: 100%|██████████| 4000/4000 [01:52<00:00, 45.58it/s, avg_mae=0.00585, avg_mse=0.00007]\n",
            "  Valid: 100%|██████████| 1000/1000 [00:35<00:00, 30.16it/s, avg_mae=0.00756, avg_mse=0.00012]\n",
            "  Visul: 100%|██████████| 64/64 [00:03<00:00, 19.19it/s]\n"
          ],
          "name": "stderr"
        }
      ]
    },
    {
      "metadata": {
        "id": "vxJTHm_SnPQP",
        "colab_type": "code",
        "colab": {
          "base_uri": "https://localhost:8080/",
          "height": 617
        },
        "outputId": "1876a8e9-148d-4b1e-d7e4-6e2179165fe5"
      },
      "cell_type": "code",
      "source": [
        "from IPython import display\n",
        "display.Image(str(log_dir / 'metrics.jpg'))"
      ],
      "execution_count": 12,
      "outputs": [
        {
          "output_type": "execute_result",
          "data": {
            "image/jpeg": "[encoded data removed]",
            "text/plain": [
              "<IPython.core.display.Image object>"
            ]
          },
          "metadata": {
            "tags": []
          },
          "execution_count": 12
        }
      ]
    },
    {
      "metadata": {
        "id": "6v8opu_dngtD",
        "colab_type": "code",
        "colab": {
          "base_uri": "https://localhost:8080/",
          "height": 337
        },
        "outputId": "845bc337-11a2-44d5-ec3d-0fbb0999cdeb"
      },
      "cell_type": "code",
      "source": [
        "display.Image(str(log_dir / '019' / '013.jpg'))"
      ],
      "execution_count": 13,
      "outputs": [
        {
          "output_type": "execute_result",
          "data": {
            "image/jpeg": "[encoded data removed]",
            "text/plain": [
              "<IPython.core.display.Image object>"
            ]
          },
          "metadata": {
            "tags": []
          },
          "execution_count": 13
        }
      ]
    },
    {
      "metadata": {
        "id": "93r3_YAsn4kw",
        "colab_type": "code",
        "colab": {
          "base_uri": "https://localhost:8080/",
          "height": 337
        },
        "outputId": "24c5e1b6-4960-4af6-fded-bce7f533169e"
      },
      "cell_type": "code",
      "source": [
        "display.Image(str(log_dir / '019' / '055.jpg'))"
      ],
      "execution_count": 14,
      "outputs": [
        {
          "output_type": "execute_result",
          "data": {
            "image/jpeg": "[encoded data removed]",
            "text/plain": [
              "<IPython.core.display.Image object>"
            ]
          },
          "metadata": {
            "tags": []
          },
          "execution_count": 14
        }
      ]
    },
    {
      "metadata": {
        "id": "mgybzoRrQVLN",
        "colab_type": "code",
        "outputId": "9648e2d2-52ad-4ad3-88d0-6509f2354d48",
        "colab": {
          "base_uri": "https://localhost:8080/",
          "height": 67
        }
      },
      "cell_type": "code",
      "source": [
        "from pathlib import Path\n",
        "from datetime import datetime\n",
        "import pandas as pd\n",
        "from tqdm import tqdm\n",
        "from PIL import Image\n",
        "\n",
        "import torch\n",
        "from torch.utils.data import DataLoader\n",
        "from torchvision.transforms import functional as tf\n",
        "\n",
        "#import util\n",
        "#from model import CCPDRegressor\n",
        "\n",
        "\n",
        "class CCPDTest:\n",
        "    def __init__(self, img_dir, img_size):\n",
        "        img_paths = Path(img_dir).glob('*.jpg')\n",
        "        self.img_paths = sorted(list(img_paths))\n",
        "        self.img_size = img_size\n",
        "\n",
        "    def __len__(self):\n",
        "        return len(self.img_paths)\n",
        "\n",
        "    def __getitem__(self, idx):\n",
        "        img_path = self.img_paths[idx]\n",
        "        img = Image.open(img_path)\n",
        "        img = img.convert('RGB')\n",
        "        img = img.resize(self.img_size)\n",
        "        img = tf.to_tensor(img)\n",
        "        return img\n",
        "\n",
        "\n",
        "test_set = CCPDTest('ccpd5000/test/', (192,320))\n",
        "print(len(test_set))\n",
        "test_loader = DataLoader(test_set, 32, shuffle=False, num_workers=2)\n",
        "\n",
        "device = 'cuda'\n",
        "model = CCPDRegressor().to(device)\n",
        "model.load_state_dict(torch.load('log/2019.02.09-13:15:57/model.pth'))\n",
        "model.eval()\n",
        "\n",
        "log_dir = Path('./test/') / f'{datetime.now():%Y.%m.%d-%H:%M:%S}'\n",
        "log_dir.mkdir(parents=True)\n",
        "print(log_dir)\n",
        "\n",
        "def test(pbar):\n",
        "    anns = []\n",
        "    for img_b in iter(test_loader):\n",
        "        kpt_b = model(img_b.to(device)).cpu()\n",
        "\n",
        "        for img, kpt in zip(img_b, kpt_b):\n",
        "            img = tf.to_pil_image(img)\n",
        "            vis = draw_plate(img, kpt)\n",
        "            vis = draw_kpts(vis, kpt, c='red')\n",
        "            vis.save(log_dir / f'{pbar.n:03d}_vis.jpg')\n",
        "\n",
        "            anns.append([f'{pbar.n:03d}.jpg', *kpt.numpy().tolist()])\n",
        "            pbar.update()\n",
        "    #print(anns)        \n",
        "    return pd.DataFrame(anns)\n",
        "\n",
        "\n",
        "with torch.no_grad():\n",
        "    with tqdm(total=len(test_set)) as pbar:\n",
        "        df_pred = test(pbar)\n",
        "   # print(df_pred)\n",
        "    df_pred.columns = ['name', 'BR_x', 'BR_y', 'BL_x', 'BL_y', 'TL_x', 'TL_y', 'TR_x', 'TR_y']\n",
        "    df_pred.to_csv(log_dir / 'test_pred.csv', float_format='%.5f', index=False)"
      ],
      "execution_count": 15,
      "outputs": [
        {
          "output_type": "stream",
          "text": [
            "\r  0%|          | 0/1000 [00:00<?, ?it/s]"
          ],
          "name": "stderr"
        },
        {
          "output_type": "stream",
          "text": [
            "1000\n",
            "test/2019.02.09-14:19:12\n"
          ],
          "name": "stdout"
        },
        {
          "output_type": "stream",
          "text": [
            "100%|██████████| 1000/1000 [00:42<00:00, 23.32it/s]\n"
          ],
          "name": "stderr"
        }
      ]
    },
    {
      "metadata": {
        "id": "cvDpbw2soeqJ",
        "colab_type": "code",
        "colab": {
          "base_uri": "https://localhost:8080/",
          "height": 337
        },
        "outputId": "96b71624-5236-42ff-d436-bda0d015d0e8"
      },
      "cell_type": "code",
      "source": [
        "display.Image(str(log_dir / '028_vis.jpg'))"
      ],
      "execution_count": 19,
      "outputs": [
        {
          "output_type": "execute_result",
          "data": {
            "image/jpeg": "[encoded data removed]",
            "text/plain": [
              "<IPython.core.display.Image object>"
            ]
          },
          "metadata": {
            "tags": []
          },
          "execution_count": 19
        }
      ]
    },
    {
      "metadata": {
        "id": "Z00S5ZJUpoXU",
        "colab_type": "code",
        "colab": {
          "base_uri": "https://localhost:8080/",
          "height": 337
        },
        "outputId": "f8ec49fa-5228-4f1e-a590-991db2a13f7e"
      },
      "cell_type": "code",
      "source": [
        "display.Image(str(log_dir / '994_vis.jpg'))"
      ],
      "execution_count": 20,
      "outputs": [
        {
          "output_type": "execute_result",
          "data": {
            "image/jpeg": "[encoded data removed]",
            "text/plain": [
              "<IPython.core.display.Image object>"
            ]
          },
          "metadata": {
            "tags": []
          },
          "execution_count": 20
        }
      ]
    }
  ]
}